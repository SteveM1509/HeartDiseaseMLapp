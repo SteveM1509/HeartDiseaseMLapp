{
 "cells": [
  {
   "cell_type": "code",
   "execution_count": 18,
   "id": "0e8e3d9e",
   "metadata": {},
   "outputs": [],
   "source": [
    "import umap\n",
    "import pandas as pd\n",
    "import numpy as np\n",
    "from sklearn.neural_network import MLPClassifier\n",
    "from sklearn.preprocessing import MinMaxScaler\n",
    "from sklearn.impute import KNNImputer\n",
    "import gower\n",
    "import seaborn as sns\n",
    "from sklearn_extra.cluster import KMedoids\n",
    "import matplotlib.pyplot as plt\n",
    "from sklearn.metrics import accuracy_score\n",
    "from sklearn.linear_model import LogisticRegression\n",
    "from sklearn.ensemble import RandomForestClassifier\n",
    "from sklearn.model_selection import train_test_split"
   ]
  },
  {
   "cell_type": "code",
   "execution_count": 2,
   "id": "68091667",
   "metadata": {},
   "outputs": [
    {
     "data": {
      "text/html": [
       "<div>\n",
       "<style scoped>\n",
       "    .dataframe tbody tr th:only-of-type {\n",
       "        vertical-align: middle;\n",
       "    }\n",
       "\n",
       "    .dataframe tbody tr th {\n",
       "        vertical-align: top;\n",
       "    }\n",
       "\n",
       "    .dataframe thead th {\n",
       "        text-align: right;\n",
       "    }\n",
       "</style>\n",
       "<table border=\"1\" class=\"dataframe\">\n",
       "  <thead>\n",
       "    <tr style=\"text-align: right;\">\n",
       "      <th></th>\n",
       "      <th>Age</th>\n",
       "      <th>Sex</th>\n",
       "      <th>ChestPainType</th>\n",
       "      <th>RestingBP</th>\n",
       "      <th>Cholesterol</th>\n",
       "      <th>FastingBS</th>\n",
       "      <th>RestingECG</th>\n",
       "      <th>MaxHR</th>\n",
       "      <th>ExerciseAngina</th>\n",
       "      <th>Oldpeak</th>\n",
       "      <th>ST_Slope</th>\n",
       "      <th>HeartDisease</th>\n",
       "    </tr>\n",
       "  </thead>\n",
       "  <tbody>\n",
       "    <tr>\n",
       "      <th>0</th>\n",
       "      <td>40</td>\n",
       "      <td>M</td>\n",
       "      <td>ATA</td>\n",
       "      <td>140</td>\n",
       "      <td>289</td>\n",
       "      <td>0</td>\n",
       "      <td>Normal</td>\n",
       "      <td>172</td>\n",
       "      <td>N</td>\n",
       "      <td>0.0</td>\n",
       "      <td>Up</td>\n",
       "      <td>0</td>\n",
       "    </tr>\n",
       "    <tr>\n",
       "      <th>1</th>\n",
       "      <td>49</td>\n",
       "      <td>F</td>\n",
       "      <td>NAP</td>\n",
       "      <td>160</td>\n",
       "      <td>180</td>\n",
       "      <td>0</td>\n",
       "      <td>Normal</td>\n",
       "      <td>156</td>\n",
       "      <td>N</td>\n",
       "      <td>1.0</td>\n",
       "      <td>Flat</td>\n",
       "      <td>1</td>\n",
       "    </tr>\n",
       "    <tr>\n",
       "      <th>2</th>\n",
       "      <td>37</td>\n",
       "      <td>M</td>\n",
       "      <td>ATA</td>\n",
       "      <td>130</td>\n",
       "      <td>283</td>\n",
       "      <td>0</td>\n",
       "      <td>ST</td>\n",
       "      <td>98</td>\n",
       "      <td>N</td>\n",
       "      <td>0.0</td>\n",
       "      <td>Up</td>\n",
       "      <td>0</td>\n",
       "    </tr>\n",
       "    <tr>\n",
       "      <th>3</th>\n",
       "      <td>48</td>\n",
       "      <td>F</td>\n",
       "      <td>ASY</td>\n",
       "      <td>138</td>\n",
       "      <td>214</td>\n",
       "      <td>0</td>\n",
       "      <td>Normal</td>\n",
       "      <td>108</td>\n",
       "      <td>Y</td>\n",
       "      <td>1.5</td>\n",
       "      <td>Flat</td>\n",
       "      <td>1</td>\n",
       "    </tr>\n",
       "    <tr>\n",
       "      <th>4</th>\n",
       "      <td>54</td>\n",
       "      <td>M</td>\n",
       "      <td>NAP</td>\n",
       "      <td>150</td>\n",
       "      <td>195</td>\n",
       "      <td>0</td>\n",
       "      <td>Normal</td>\n",
       "      <td>122</td>\n",
       "      <td>N</td>\n",
       "      <td>0.0</td>\n",
       "      <td>Up</td>\n",
       "      <td>0</td>\n",
       "    </tr>\n",
       "  </tbody>\n",
       "</table>\n",
       "</div>"
      ],
      "text/plain": [
       "   Age Sex ChestPainType  RestingBP  Cholesterol  FastingBS RestingECG  MaxHR  \\\n",
       "0   40   M           ATA        140          289          0     Normal    172   \n",
       "1   49   F           NAP        160          180          0     Normal    156   \n",
       "2   37   M           ATA        130          283          0         ST     98   \n",
       "3   48   F           ASY        138          214          0     Normal    108   \n",
       "4   54   M           NAP        150          195          0     Normal    122   \n",
       "\n",
       "  ExerciseAngina  Oldpeak ST_Slope  HeartDisease  \n",
       "0              N      0.0       Up             0  \n",
       "1              N      1.0     Flat             1  \n",
       "2              N      0.0       Up             0  \n",
       "3              Y      1.5     Flat             1  \n",
       "4              N      0.0       Up             0  "
      ]
     },
     "execution_count": 2,
     "metadata": {},
     "output_type": "execute_result"
    }
   ],
   "source": [
    "df=pd.read_csv('heart.csv')\n",
    "df.head()"
   ]
  },
  {
   "cell_type": "code",
   "execution_count": 3,
   "id": "ac73b758",
   "metadata": {},
   "outputs": [],
   "source": [
    "df_en=df.copy()\n",
    "\n",
    "df_en.Sex.replace({'M':1,'F':0},inplace=True)\n",
    "df_en.ChestPainType.replace({'ATA':0,'NAP':1,'ASY':2,'TA':3},inplace=True)\n",
    "df_en.RestingECG.replace({'Normal':0,'ST':1,'LVH':2},inplace=True)\n",
    "df_en.ExerciseAngina.replace({'Y':1,'N':0},inplace=True)\n",
    "df_en.ST_Slope.replace({'Up':0,'Flat':1,'Down':2},inplace=True)\n",
    "df_en.Cholesterol.replace({0:np.NaN},inplace=True)\n",
    "df_en.RestingBP.replace({0:np.NaN},inplace=True)\n",
    "\n",
    "scaler = MinMaxScaler()\n",
    "df2 = pd.DataFrame(scaler.fit_transform(df_en), columns = df_en.columns)\n",
    "\n",
    "imputer = KNNImputer(n_neighbors=5)\n",
    "df3 = pd.DataFrame(imputer.fit_transform(df2),columns = df2.columns)\n",
    "\n",
    "df4=pd.DataFrame(scaler.inverse_transform(df3),columns=df2.columns)\n",
    "\n",
    "df5=df4.copy()\n",
    "\n",
    "df5.Sex.replace({1:'M',0:'F'},inplace=True)\n",
    "df5.ChestPainType.replace({0:'ATA',1:'NAP',2:'ASY',3:'TA'},inplace=True)\n",
    "df5.RestingECG.replace({0:'Normal',1:'ST',2:'LVH'},inplace=True)\n",
    "df5.ExerciseAngina.replace({1:'Y',0:'N'},inplace=True)\n",
    "df5.ST_Slope.replace({0:'Up',1:'Flat',2:'Down'},inplace=True)"
   ]
  },
  {
   "cell_type": "code",
   "execution_count": 4,
   "id": "0dafd76a",
   "metadata": {},
   "outputs": [],
   "source": [
    "orig=df.copy()\n",
    "df=df4.copy()"
   ]
  },
  {
   "cell_type": "code",
   "execution_count": 5,
   "id": "46d016ea",
   "metadata": {},
   "outputs": [
    {
     "data": {
      "text/html": [
       "<div>\n",
       "<style scoped>\n",
       "    .dataframe tbody tr th:only-of-type {\n",
       "        vertical-align: middle;\n",
       "    }\n",
       "\n",
       "    .dataframe tbody tr th {\n",
       "        vertical-align: top;\n",
       "    }\n",
       "\n",
       "    .dataframe thead th {\n",
       "        text-align: right;\n",
       "    }\n",
       "</style>\n",
       "<table border=\"1\" class=\"dataframe\">\n",
       "  <thead>\n",
       "    <tr style=\"text-align: right;\">\n",
       "      <th></th>\n",
       "      <th>Age</th>\n",
       "      <th>Sex</th>\n",
       "      <th>ChestPainType</th>\n",
       "      <th>RestingBP</th>\n",
       "      <th>Cholesterol</th>\n",
       "      <th>FastingBS</th>\n",
       "      <th>RestingECG</th>\n",
       "      <th>MaxHR</th>\n",
       "      <th>ExerciseAngina</th>\n",
       "      <th>Oldpeak</th>\n",
       "      <th>ST_Slope</th>\n",
       "      <th>HeartDisease</th>\n",
       "    </tr>\n",
       "  </thead>\n",
       "  <tbody>\n",
       "    <tr>\n",
       "      <th>0</th>\n",
       "      <td>40.0</td>\n",
       "      <td>M</td>\n",
       "      <td>ATA</td>\n",
       "      <td>140.0</td>\n",
       "      <td>289.0</td>\n",
       "      <td>0.0</td>\n",
       "      <td>Normal</td>\n",
       "      <td>172.0</td>\n",
       "      <td>N</td>\n",
       "      <td>0.0</td>\n",
       "      <td>Up</td>\n",
       "      <td>0.0</td>\n",
       "    </tr>\n",
       "    <tr>\n",
       "      <th>1</th>\n",
       "      <td>49.0</td>\n",
       "      <td>F</td>\n",
       "      <td>NAP</td>\n",
       "      <td>160.0</td>\n",
       "      <td>180.0</td>\n",
       "      <td>0.0</td>\n",
       "      <td>Normal</td>\n",
       "      <td>156.0</td>\n",
       "      <td>N</td>\n",
       "      <td>1.0</td>\n",
       "      <td>Flat</td>\n",
       "      <td>1.0</td>\n",
       "    </tr>\n",
       "    <tr>\n",
       "      <th>2</th>\n",
       "      <td>37.0</td>\n",
       "      <td>M</td>\n",
       "      <td>ATA</td>\n",
       "      <td>130.0</td>\n",
       "      <td>283.0</td>\n",
       "      <td>0.0</td>\n",
       "      <td>ST</td>\n",
       "      <td>98.0</td>\n",
       "      <td>N</td>\n",
       "      <td>0.0</td>\n",
       "      <td>Up</td>\n",
       "      <td>0.0</td>\n",
       "    </tr>\n",
       "    <tr>\n",
       "      <th>3</th>\n",
       "      <td>48.0</td>\n",
       "      <td>F</td>\n",
       "      <td>ASY</td>\n",
       "      <td>138.0</td>\n",
       "      <td>214.0</td>\n",
       "      <td>0.0</td>\n",
       "      <td>Normal</td>\n",
       "      <td>108.0</td>\n",
       "      <td>Y</td>\n",
       "      <td>1.5</td>\n",
       "      <td>Flat</td>\n",
       "      <td>1.0</td>\n",
       "    </tr>\n",
       "    <tr>\n",
       "      <th>4</th>\n",
       "      <td>54.0</td>\n",
       "      <td>M</td>\n",
       "      <td>NAP</td>\n",
       "      <td>150.0</td>\n",
       "      <td>195.0</td>\n",
       "      <td>0.0</td>\n",
       "      <td>Normal</td>\n",
       "      <td>122.0</td>\n",
       "      <td>N</td>\n",
       "      <td>0.0</td>\n",
       "      <td>Up</td>\n",
       "      <td>0.0</td>\n",
       "    </tr>\n",
       "  </tbody>\n",
       "</table>\n",
       "</div>"
      ],
      "text/plain": [
       "    Age Sex ChestPainType  RestingBP  Cholesterol  FastingBS RestingECG  \\\n",
       "0  40.0   M           ATA      140.0        289.0        0.0     Normal   \n",
       "1  49.0   F           NAP      160.0        180.0        0.0     Normal   \n",
       "2  37.0   M           ATA      130.0        283.0        0.0         ST   \n",
       "3  48.0   F           ASY      138.0        214.0        0.0     Normal   \n",
       "4  54.0   M           NAP      150.0        195.0        0.0     Normal   \n",
       "\n",
       "   MaxHR ExerciseAngina  Oldpeak ST_Slope  HeartDisease  \n",
       "0  172.0              N      0.0       Up           0.0  \n",
       "1  156.0              N      1.0     Flat           1.0  \n",
       "2   98.0              N      0.0       Up           0.0  \n",
       "3  108.0              Y      1.5     Flat           1.0  \n",
       "4  122.0              N      0.0       Up           0.0  "
      ]
     },
     "execution_count": 5,
     "metadata": {},
     "output_type": "execute_result"
    }
   ],
   "source": [
    "df5.head()"
   ]
  },
  {
   "cell_type": "code",
   "execution_count": 6,
   "id": "d94249c3",
   "metadata": {},
   "outputs": [],
   "source": [
    "imp_vars=['Age','MaxHR','Oldpeak','Sex','ChestPainType','FastingBS','ExerciseAngina','ST_Slope']"
   ]
  },
  {
   "cell_type": "code",
   "execution_count": 71,
   "id": "10d4d4d7",
   "metadata": {},
   "outputs": [
    {
     "data": {
      "text/plain": [
       "60.0"
      ]
     },
     "execution_count": 71,
     "metadata": {},
     "output_type": "execute_result"
    }
   ],
   "source": [
    "df5.MaxHR.min()"
   ]
  },
  {
   "cell_type": "code",
   "execution_count": 72,
   "id": "93c391bf",
   "metadata": {},
   "outputs": [
    {
     "data": {
      "text/plain": [
       "201.99999999999997"
      ]
     },
     "execution_count": 72,
     "metadata": {},
     "output_type": "execute_result"
    }
   ],
   "source": [
    "df5.MaxHR.max()"
   ]
  },
  {
   "cell_type": "code",
   "execution_count": 73,
   "id": "c56150c5",
   "metadata": {},
   "outputs": [
    {
     "data": {
      "text/html": [
       "<div>\n",
       "<style scoped>\n",
       "    .dataframe tbody tr th:only-of-type {\n",
       "        vertical-align: middle;\n",
       "    }\n",
       "\n",
       "    .dataframe tbody tr th {\n",
       "        vertical-align: top;\n",
       "    }\n",
       "\n",
       "    .dataframe thead th {\n",
       "        text-align: right;\n",
       "    }\n",
       "</style>\n",
       "<table border=\"1\" class=\"dataframe\">\n",
       "  <thead>\n",
       "    <tr style=\"text-align: right;\">\n",
       "      <th></th>\n",
       "      <th>Age</th>\n",
       "      <th>Sex</th>\n",
       "      <th>ChestPainType</th>\n",
       "      <th>RestingBP</th>\n",
       "      <th>Cholesterol</th>\n",
       "      <th>FastingBS</th>\n",
       "      <th>RestingECG</th>\n",
       "      <th>MaxHR</th>\n",
       "      <th>ExerciseAngina</th>\n",
       "      <th>Oldpeak</th>\n",
       "      <th>ST_Slope</th>\n",
       "      <th>HeartDisease</th>\n",
       "    </tr>\n",
       "  </thead>\n",
       "  <tbody>\n",
       "    <tr>\n",
       "      <th>917</th>\n",
       "      <td>38.0</td>\n",
       "      <td>M</td>\n",
       "      <td>NAP</td>\n",
       "      <td>138.0</td>\n",
       "      <td>175.0</td>\n",
       "      <td>0.0</td>\n",
       "      <td>Normal</td>\n",
       "      <td>173.0</td>\n",
       "      <td>N</td>\n",
       "      <td>0.0</td>\n",
       "      <td>Up</td>\n",
       "      <td>0.0</td>\n",
       "    </tr>\n",
       "  </tbody>\n",
       "</table>\n",
       "</div>"
      ],
      "text/plain": [
       "      Age Sex ChestPainType  RestingBP  Cholesterol  FastingBS RestingECG  \\\n",
       "917  38.0   M           NAP      138.0        175.0        0.0     Normal   \n",
       "\n",
       "     MaxHR ExerciseAngina  Oldpeak ST_Slope  HeartDisease  \n",
       "917  173.0              N      0.0       Up           0.0  "
      ]
     },
     "execution_count": 73,
     "metadata": {},
     "output_type": "execute_result"
    }
   ],
   "source": [
    "df5.tail(1)"
   ]
  },
  {
   "cell_type": "code",
   "execution_count": 78,
   "id": "774497e0",
   "metadata": {},
   "outputs": [
    {
     "data": {
      "text/html": [
       "<div>\n",
       "<style scoped>\n",
       "    .dataframe tbody tr th:only-of-type {\n",
       "        vertical-align: middle;\n",
       "    }\n",
       "\n",
       "    .dataframe tbody tr th {\n",
       "        vertical-align: top;\n",
       "    }\n",
       "\n",
       "    .dataframe thead th {\n",
       "        text-align: right;\n",
       "    }\n",
       "</style>\n",
       "<table border=\"1\" class=\"dataframe\">\n",
       "  <thead>\n",
       "    <tr style=\"text-align: right;\">\n",
       "      <th>component</th>\n",
       "      <th>0</th>\n",
       "      <th>1</th>\n",
       "    </tr>\n",
       "  </thead>\n",
       "  <tbody>\n",
       "    <tr>\n",
       "      <th>917</th>\n",
       "      <td>NaN</td>\n",
       "      <td>NaN</td>\n",
       "    </tr>\n",
       "  </tbody>\n",
       "</table>\n",
       "</div>"
      ],
      "text/plain": [
       "component   0   1\n",
       "917       NaN NaN"
      ]
     },
     "execution_count": 78,
     "metadata": {},
     "output_type": "execute_result"
    }
   ],
   "source": [
    "famd.transform(df5[imp_vars].tail(1))"
   ]
  },
  {
   "cell_type": "markdown",
   "id": "a49e42d2",
   "metadata": {},
   "source": [
    "## FAMD"
   ]
  },
  {
   "cell_type": "code",
   "execution_count": 10,
   "id": "781a76b7",
   "metadata": {},
   "outputs": [
    {
     "data": {
      "text/html": [
       "<div>\n",
       "<style scoped>\n",
       "    .dataframe tbody tr th:only-of-type {\n",
       "        vertical-align: middle;\n",
       "    }\n",
       "\n",
       "    .dataframe tbody tr th {\n",
       "        vertical-align: top;\n",
       "    }\n",
       "\n",
       "    .dataframe thead th {\n",
       "        text-align: right;\n",
       "    }\n",
       "</style>\n",
       "<table border=\"1\" class=\"dataframe\">\n",
       "  <thead>\n",
       "    <tr style=\"text-align: right;\">\n",
       "      <th></th>\n",
       "      <th>Age</th>\n",
       "      <th>Sex</th>\n",
       "      <th>ChestPainType</th>\n",
       "      <th>RestingBP</th>\n",
       "      <th>Cholesterol</th>\n",
       "      <th>FastingBS</th>\n",
       "      <th>RestingECG</th>\n",
       "      <th>MaxHR</th>\n",
       "      <th>ExerciseAngina</th>\n",
       "      <th>Oldpeak</th>\n",
       "      <th>ST_Slope</th>\n",
       "      <th>HeartDisease</th>\n",
       "    </tr>\n",
       "  </thead>\n",
       "  <tbody>\n",
       "    <tr>\n",
       "      <th>0</th>\n",
       "      <td>40.0</td>\n",
       "      <td>M</td>\n",
       "      <td>ATA</td>\n",
       "      <td>140.0</td>\n",
       "      <td>289.0</td>\n",
       "      <td>0.0</td>\n",
       "      <td>Normal</td>\n",
       "      <td>172.0</td>\n",
       "      <td>N</td>\n",
       "      <td>0.0</td>\n",
       "      <td>Up</td>\n",
       "      <td>0.0</td>\n",
       "    </tr>\n",
       "    <tr>\n",
       "      <th>1</th>\n",
       "      <td>49.0</td>\n",
       "      <td>F</td>\n",
       "      <td>NAP</td>\n",
       "      <td>160.0</td>\n",
       "      <td>180.0</td>\n",
       "      <td>0.0</td>\n",
       "      <td>Normal</td>\n",
       "      <td>156.0</td>\n",
       "      <td>N</td>\n",
       "      <td>1.0</td>\n",
       "      <td>Flat</td>\n",
       "      <td>1.0</td>\n",
       "    </tr>\n",
       "    <tr>\n",
       "      <th>2</th>\n",
       "      <td>37.0</td>\n",
       "      <td>M</td>\n",
       "      <td>ATA</td>\n",
       "      <td>130.0</td>\n",
       "      <td>283.0</td>\n",
       "      <td>0.0</td>\n",
       "      <td>ST</td>\n",
       "      <td>98.0</td>\n",
       "      <td>N</td>\n",
       "      <td>0.0</td>\n",
       "      <td>Up</td>\n",
       "      <td>0.0</td>\n",
       "    </tr>\n",
       "    <tr>\n",
       "      <th>3</th>\n",
       "      <td>48.0</td>\n",
       "      <td>F</td>\n",
       "      <td>ASY</td>\n",
       "      <td>138.0</td>\n",
       "      <td>214.0</td>\n",
       "      <td>0.0</td>\n",
       "      <td>Normal</td>\n",
       "      <td>108.0</td>\n",
       "      <td>Y</td>\n",
       "      <td>1.5</td>\n",
       "      <td>Flat</td>\n",
       "      <td>1.0</td>\n",
       "    </tr>\n",
       "    <tr>\n",
       "      <th>4</th>\n",
       "      <td>54.0</td>\n",
       "      <td>M</td>\n",
       "      <td>NAP</td>\n",
       "      <td>150.0</td>\n",
       "      <td>195.0</td>\n",
       "      <td>0.0</td>\n",
       "      <td>Normal</td>\n",
       "      <td>122.0</td>\n",
       "      <td>N</td>\n",
       "      <td>0.0</td>\n",
       "      <td>Up</td>\n",
       "      <td>0.0</td>\n",
       "    </tr>\n",
       "    <tr>\n",
       "      <th>...</th>\n",
       "      <td>...</td>\n",
       "      <td>...</td>\n",
       "      <td>...</td>\n",
       "      <td>...</td>\n",
       "      <td>...</td>\n",
       "      <td>...</td>\n",
       "      <td>...</td>\n",
       "      <td>...</td>\n",
       "      <td>...</td>\n",
       "      <td>...</td>\n",
       "      <td>...</td>\n",
       "      <td>...</td>\n",
       "    </tr>\n",
       "    <tr>\n",
       "      <th>913</th>\n",
       "      <td>45.0</td>\n",
       "      <td>M</td>\n",
       "      <td>TA</td>\n",
       "      <td>110.0</td>\n",
       "      <td>264.0</td>\n",
       "      <td>0.0</td>\n",
       "      <td>Normal</td>\n",
       "      <td>132.0</td>\n",
       "      <td>N</td>\n",
       "      <td>1.2</td>\n",
       "      <td>Flat</td>\n",
       "      <td>1.0</td>\n",
       "    </tr>\n",
       "    <tr>\n",
       "      <th>914</th>\n",
       "      <td>68.0</td>\n",
       "      <td>M</td>\n",
       "      <td>ASY</td>\n",
       "      <td>144.0</td>\n",
       "      <td>193.0</td>\n",
       "      <td>1.0</td>\n",
       "      <td>Normal</td>\n",
       "      <td>141.0</td>\n",
       "      <td>N</td>\n",
       "      <td>3.4</td>\n",
       "      <td>Flat</td>\n",
       "      <td>1.0</td>\n",
       "    </tr>\n",
       "    <tr>\n",
       "      <th>915</th>\n",
       "      <td>57.0</td>\n",
       "      <td>M</td>\n",
       "      <td>ASY</td>\n",
       "      <td>130.0</td>\n",
       "      <td>131.0</td>\n",
       "      <td>0.0</td>\n",
       "      <td>Normal</td>\n",
       "      <td>115.0</td>\n",
       "      <td>Y</td>\n",
       "      <td>1.2</td>\n",
       "      <td>Flat</td>\n",
       "      <td>1.0</td>\n",
       "    </tr>\n",
       "    <tr>\n",
       "      <th>916</th>\n",
       "      <td>57.0</td>\n",
       "      <td>F</td>\n",
       "      <td>ATA</td>\n",
       "      <td>130.0</td>\n",
       "      <td>236.0</td>\n",
       "      <td>0.0</td>\n",
       "      <td>LVH</td>\n",
       "      <td>174.0</td>\n",
       "      <td>N</td>\n",
       "      <td>0.0</td>\n",
       "      <td>Flat</td>\n",
       "      <td>1.0</td>\n",
       "    </tr>\n",
       "    <tr>\n",
       "      <th>917</th>\n",
       "      <td>38.0</td>\n",
       "      <td>M</td>\n",
       "      <td>NAP</td>\n",
       "      <td>138.0</td>\n",
       "      <td>175.0</td>\n",
       "      <td>0.0</td>\n",
       "      <td>Normal</td>\n",
       "      <td>173.0</td>\n",
       "      <td>N</td>\n",
       "      <td>0.0</td>\n",
       "      <td>Up</td>\n",
       "      <td>0.0</td>\n",
       "    </tr>\n",
       "  </tbody>\n",
       "</table>\n",
       "<p>918 rows × 12 columns</p>\n",
       "</div>"
      ],
      "text/plain": [
       "      Age Sex ChestPainType  RestingBP  Cholesterol  FastingBS RestingECG  \\\n",
       "0    40.0   M           ATA      140.0        289.0        0.0     Normal   \n",
       "1    49.0   F           NAP      160.0        180.0        0.0     Normal   \n",
       "2    37.0   M           ATA      130.0        283.0        0.0         ST   \n",
       "3    48.0   F           ASY      138.0        214.0        0.0     Normal   \n",
       "4    54.0   M           NAP      150.0        195.0        0.0     Normal   \n",
       "..    ...  ..           ...        ...          ...        ...        ...   \n",
       "913  45.0   M            TA      110.0        264.0        0.0     Normal   \n",
       "914  68.0   M           ASY      144.0        193.0        1.0     Normal   \n",
       "915  57.0   M           ASY      130.0        131.0        0.0     Normal   \n",
       "916  57.0   F           ATA      130.0        236.0        0.0        LVH   \n",
       "917  38.0   M           NAP      138.0        175.0        0.0     Normal   \n",
       "\n",
       "     MaxHR ExerciseAngina  Oldpeak ST_Slope  HeartDisease  \n",
       "0    172.0              N      0.0       Up           0.0  \n",
       "1    156.0              N      1.0     Flat           1.0  \n",
       "2     98.0              N      0.0       Up           0.0  \n",
       "3    108.0              Y      1.5     Flat           1.0  \n",
       "4    122.0              N      0.0       Up           0.0  \n",
       "..     ...            ...      ...      ...           ...  \n",
       "913  132.0              N      1.2     Flat           1.0  \n",
       "914  141.0              N      3.4     Flat           1.0  \n",
       "915  115.0              Y      1.2     Flat           1.0  \n",
       "916  174.0              N      0.0     Flat           1.0  \n",
       "917  173.0              N      0.0       Up           0.0  \n",
       "\n",
       "[918 rows x 12 columns]"
      ]
     },
     "execution_count": 10,
     "metadata": {},
     "output_type": "execute_result"
    }
   ],
   "source": [
    "df5"
   ]
  },
  {
   "cell_type": "code",
   "execution_count": 47,
   "id": "1c79ce6b",
   "metadata": {},
   "outputs": [
    {
     "data": {
      "text/html": [
       "<div>\n",
       "<style scoped>\n",
       "    .dataframe tbody tr th:only-of-type {\n",
       "        vertical-align: middle;\n",
       "    }\n",
       "\n",
       "    .dataframe tbody tr th {\n",
       "        vertical-align: top;\n",
       "    }\n",
       "\n",
       "    .dataframe thead th {\n",
       "        text-align: right;\n",
       "    }\n",
       "</style>\n",
       "<table border=\"1\" class=\"dataframe\">\n",
       "  <thead>\n",
       "    <tr style=\"text-align: right;\">\n",
       "      <th></th>\n",
       "      <th>Age</th>\n",
       "      <th>Sex</th>\n",
       "      <th>ChestPainType</th>\n",
       "      <th>RestingBP</th>\n",
       "      <th>Cholesterol</th>\n",
       "      <th>FastingBS</th>\n",
       "      <th>RestingECG</th>\n",
       "      <th>MaxHR</th>\n",
       "      <th>ExerciseAngina</th>\n",
       "      <th>Oldpeak</th>\n",
       "      <th>ST_Slope</th>\n",
       "      <th>HeartDisease</th>\n",
       "    </tr>\n",
       "  </thead>\n",
       "  <tbody>\n",
       "    <tr>\n",
       "      <th>0</th>\n",
       "      <td>40.0</td>\n",
       "      <td>M</td>\n",
       "      <td>ATA</td>\n",
       "      <td>140.0</td>\n",
       "      <td>289.0</td>\n",
       "      <td>0.0</td>\n",
       "      <td>Normal</td>\n",
       "      <td>172.0</td>\n",
       "      <td>N</td>\n",
       "      <td>0.0</td>\n",
       "      <td>Up</td>\n",
       "      <td>0.0</td>\n",
       "    </tr>\n",
       "    <tr>\n",
       "      <th>1</th>\n",
       "      <td>49.0</td>\n",
       "      <td>F</td>\n",
       "      <td>NAP</td>\n",
       "      <td>160.0</td>\n",
       "      <td>180.0</td>\n",
       "      <td>0.0</td>\n",
       "      <td>Normal</td>\n",
       "      <td>156.0</td>\n",
       "      <td>N</td>\n",
       "      <td>1.0</td>\n",
       "      <td>Flat</td>\n",
       "      <td>1.0</td>\n",
       "    </tr>\n",
       "    <tr>\n",
       "      <th>2</th>\n",
       "      <td>37.0</td>\n",
       "      <td>M</td>\n",
       "      <td>ATA</td>\n",
       "      <td>130.0</td>\n",
       "      <td>283.0</td>\n",
       "      <td>0.0</td>\n",
       "      <td>ST</td>\n",
       "      <td>98.0</td>\n",
       "      <td>N</td>\n",
       "      <td>0.0</td>\n",
       "      <td>Up</td>\n",
       "      <td>0.0</td>\n",
       "    </tr>\n",
       "    <tr>\n",
       "      <th>3</th>\n",
       "      <td>48.0</td>\n",
       "      <td>F</td>\n",
       "      <td>ASY</td>\n",
       "      <td>138.0</td>\n",
       "      <td>214.0</td>\n",
       "      <td>0.0</td>\n",
       "      <td>Normal</td>\n",
       "      <td>108.0</td>\n",
       "      <td>Y</td>\n",
       "      <td>1.5</td>\n",
       "      <td>Flat</td>\n",
       "      <td>1.0</td>\n",
       "    </tr>\n",
       "    <tr>\n",
       "      <th>4</th>\n",
       "      <td>54.0</td>\n",
       "      <td>M</td>\n",
       "      <td>NAP</td>\n",
       "      <td>150.0</td>\n",
       "      <td>195.0</td>\n",
       "      <td>0.0</td>\n",
       "      <td>Normal</td>\n",
       "      <td>122.0</td>\n",
       "      <td>N</td>\n",
       "      <td>0.0</td>\n",
       "      <td>Up</td>\n",
       "      <td>0.0</td>\n",
       "    </tr>\n",
       "  </tbody>\n",
       "</table>\n",
       "</div>"
      ],
      "text/plain": [
       "    Age Sex ChestPainType  RestingBP  Cholesterol  FastingBS RestingECG  \\\n",
       "0  40.0   M           ATA      140.0        289.0        0.0     Normal   \n",
       "1  49.0   F           NAP      160.0        180.0        0.0     Normal   \n",
       "2  37.0   M           ATA      130.0        283.0        0.0         ST   \n",
       "3  48.0   F           ASY      138.0        214.0        0.0     Normal   \n",
       "4  54.0   M           NAP      150.0        195.0        0.0     Normal   \n",
       "\n",
       "   MaxHR ExerciseAngina  Oldpeak ST_Slope  HeartDisease  \n",
       "0  172.0              N      0.0       Up           0.0  \n",
       "1  156.0              N      1.0     Flat           1.0  \n",
       "2   98.0              N      0.0       Up           0.0  \n",
       "3  108.0              Y      1.5     Flat           1.0  \n",
       "4  122.0              N      0.0       Up           0.0  "
      ]
     },
     "execution_count": 47,
     "metadata": {},
     "output_type": "execute_result"
    }
   ],
   "source": [
    "df5.head()"
   ]
  },
  {
   "cell_type": "code",
   "execution_count": 132,
   "id": "0c8a0f75",
   "metadata": {},
   "outputs": [],
   "source": [
    "import prince\n",
    "\n",
    "famd = prince.FAMD(n_components=2, n_iter=3,\n",
    "                   copy=True, check_input=True,random_state=42)\n",
    "\n",
    "xtrain,xtest,ytrain,ytest=train_test_split(df5[imp_vars],df.HeartDisease,test_size=0.2)"
   ]
  },
  {
   "cell_type": "code",
   "execution_count": 133,
   "id": "33414979",
   "metadata": {},
   "outputs": [
    {
     "data": {
      "text/plain": [
       "<matplotlib.collections.PathCollection at 0x1a77dbf3190>"
      ]
     },
     "execution_count": 133,
     "metadata": {},
     "output_type": "execute_result"
    },
    {
     "data": {
      "image/png": "[encoded data removed]",
      "text/plain": [
       "<Figure size 640x480 with 1 Axes>"
      ]
     },
     "metadata": {},
     "output_type": "display_data"
    }
   ],
   "source": [
    "plt.scatter(xtrain2.iloc[:,0],xtrain2.iloc[:,1],c=ytrain)"
   ]
  },
  {
   "cell_type": "code",
   "execution_count": 134,
   "id": "05247759",
   "metadata": {},
   "outputs": [],
   "source": [
    "famd = famd.fit(xtrain)\n",
    "coords = famd.row_coordinates(xtrain)\n",
    "xtest=famd.transform(xtest)"
   ]
  },
  {
   "cell_type": "code",
   "execution_count": 135,
   "id": "76c0dcb3",
   "metadata": {},
   "outputs": [
    {
     "data": {
      "text/html": [
       "<div>\n",
       "<style scoped>\n",
       "    .dataframe tbody tr th:only-of-type {\n",
       "        vertical-align: middle;\n",
       "    }\n",
       "\n",
       "    .dataframe tbody tr th {\n",
       "        vertical-align: top;\n",
       "    }\n",
       "\n",
       "    .dataframe thead th {\n",
       "        text-align: right;\n",
       "    }\n",
       "</style>\n",
       "<table border=\"1\" class=\"dataframe\">\n",
       "  <thead>\n",
       "    <tr style=\"text-align: right;\">\n",
       "      <th>component</th>\n",
       "      <th>0</th>\n",
       "      <th>1</th>\n",
       "    </tr>\n",
       "  </thead>\n",
       "  <tbody>\n",
       "    <tr>\n",
       "      <th>471</th>\n",
       "      <td>-3.066345</td>\n",
       "      <td>-0.439142</td>\n",
       "    </tr>\n",
       "    <tr>\n",
       "      <th>679</th>\n",
       "      <td>-0.850734</td>\n",
       "      <td>8.541154</td>\n",
       "    </tr>\n",
       "    <tr>\n",
       "      <th>846</th>\n",
       "      <td>-0.484556</td>\n",
       "      <td>-0.551212</td>\n",
       "    </tr>\n",
       "    <tr>\n",
       "      <th>575</th>\n",
       "      <td>-2.700329</td>\n",
       "      <td>-0.704796</td>\n",
       "    </tr>\n",
       "    <tr>\n",
       "      <th>252</th>\n",
       "      <td>-0.959367</td>\n",
       "      <td>-0.679957</td>\n",
       "    </tr>\n",
       "    <tr>\n",
       "      <th>...</th>\n",
       "      <td>...</td>\n",
       "      <td>...</td>\n",
       "    </tr>\n",
       "    <tr>\n",
       "      <th>289</th>\n",
       "      <td>3.391354</td>\n",
       "      <td>-0.379792</td>\n",
       "    </tr>\n",
       "    <tr>\n",
       "      <th>436</th>\n",
       "      <td>0.400414</td>\n",
       "      <td>-0.069129</td>\n",
       "    </tr>\n",
       "    <tr>\n",
       "      <th>459</th>\n",
       "      <td>0.847474</td>\n",
       "      <td>-0.445002</td>\n",
       "    </tr>\n",
       "    <tr>\n",
       "      <th>857</th>\n",
       "      <td>0.413673</td>\n",
       "      <td>-0.651480</td>\n",
       "    </tr>\n",
       "    <tr>\n",
       "      <th>69</th>\n",
       "      <td>1.417404</td>\n",
       "      <td>-0.211255</td>\n",
       "    </tr>\n",
       "  </tbody>\n",
       "</table>\n",
       "<p>734 rows × 2 columns</p>\n",
       "</div>"
      ],
      "text/plain": [
       "component         0         1\n",
       "471       -3.066345 -0.439142\n",
       "679       -0.850734  8.541154\n",
       "846       -0.484556 -0.551212\n",
       "575       -2.700329 -0.704796\n",
       "252       -0.959367 -0.679957\n",
       "..              ...       ...\n",
       "289        3.391354 -0.379792\n",
       "436        0.400414 -0.069129\n",
       "459        0.847474 -0.445002\n",
       "857        0.413673 -0.651480\n",
       "69         1.417404 -0.211255\n",
       "\n",
       "[734 rows x 2 columns]"
      ]
     },
     "execution_count": 135,
     "metadata": {},
     "output_type": "execute_result"
    }
   ],
   "source": [
    "coords"
   ]
  },
  {
   "cell_type": "code",
   "execution_count": 136,
   "id": "ee4b7e8a",
   "metadata": {},
   "outputs": [
    {
     "data": {
      "text/html": [
       "<style>#sk-container-id-1 {color: black;}#sk-container-id-1 pre{padding: 0;}#sk-container-id-1 div.sk-toggleable {background-color: white;}#sk-container-id-1 label.sk-toggleable__label {cursor: pointer;display: block;width: 100%;margin-bottom: 0;padding: 0.3em;box-sizing: border-box;text-align: center;}#sk-container-id-1 label.sk-toggleable__label-arrow:before {content: \"▸\";float: left;margin-right: 0.25em;color: #696969;}#sk-container-id-1 label.sk-toggleable__label-arrow:hover:before {color: black;}#sk-container-id-1 div.sk-estimator:hover label.sk-toggleable__label-arrow:before {color: black;}#sk-container-id-1 div.sk-toggleable__content {max-height: 0;max-width: 0;overflow: hidden;text-align: left;background-color: #f0f8ff;}#sk-container-id-1 div.sk-toggleable__content pre {margin: 0.2em;color: black;border-radius: 0.25em;background-color: #f0f8ff;}#sk-container-id-1 input.sk-toggleable__control:checked~div.sk-toggleable__content {max-height: 200px;max-width: 100%;overflow: auto;}#sk-container-id-1 input.sk-toggleable__control:checked~label.sk-toggleable__label-arrow:before {content: \"▾\";}#sk-container-id-1 div.sk-estimator input.sk-toggleable__control:checked~label.sk-toggleable__label {background-color: #d4ebff;}#sk-container-id-1 div.sk-label input.sk-toggleable__control:checked~label.sk-toggleable__label {background-color: #d4ebff;}#sk-container-id-1 input.sk-hidden--visually {border: 0;clip: rect(1px 1px 1px 1px);clip: rect(1px, 1px, 1px, 1px);height: 1px;margin: -1px;overflow: hidden;padding: 0;position: absolute;width: 1px;}#sk-container-id-1 div.sk-estimator {font-family: monospace;background-color: #f0f8ff;border: 1px dotted black;border-radius: 0.25em;box-sizing: border-box;margin-bottom: 0.5em;}#sk-container-id-1 div.sk-estimator:hover {background-color: #d4ebff;}#sk-container-id-1 div.sk-parallel-item::after {content: \"\";width: 100%;border-bottom: 1px solid gray;flex-grow: 1;}#sk-container-id-1 div.sk-label:hover label.sk-toggleable__label {background-color: #d4ebff;}#sk-container-id-1 div.sk-serial::before {content: \"\";position: absolute;border-left: 1px solid gray;box-sizing: border-box;top: 0;bottom: 0;left: 50%;z-index: 0;}#sk-container-id-1 div.sk-serial {display: flex;flex-direction: column;align-items: center;background-color: white;padding-right: 0.2em;padding-left: 0.2em;position: relative;}#sk-container-id-1 div.sk-item {position: relative;z-index: 1;}#sk-container-id-1 div.sk-parallel {display: flex;align-items: stretch;justify-content: center;background-color: white;position: relative;}#sk-container-id-1 div.sk-item::before, #sk-container-id-1 div.sk-parallel-item::before {content: \"\";position: absolute;border-left: 1px solid gray;box-sizing: border-box;top: 0;bottom: 0;left: 50%;z-index: -1;}#sk-container-id-1 div.sk-parallel-item {display: flex;flex-direction: column;z-index: 1;position: relative;background-color: white;}#sk-container-id-1 div.sk-parallel-item:first-child::after {align-self: flex-end;width: 50%;}#sk-container-id-1 div.sk-parallel-item:last-child::after {align-self: flex-start;width: 50%;}#sk-container-id-1 div.sk-parallel-item:only-child::after {width: 0;}#sk-container-id-1 div.sk-dashed-wrapped {border: 1px dashed gray;margin: 0 0.4em 0.5em 0.4em;box-sizing: border-box;padding-bottom: 0.4em;background-color: white;}#sk-container-id-1 div.sk-label label {font-family: monospace;font-weight: bold;display: inline-block;line-height: 1.2em;}#sk-container-id-1 div.sk-label-container {text-align: center;}#sk-container-id-1 div.sk-container {/* jupyter's `normalize.less` sets `[hidden] { display: none; }` but bootstrap.min.css set `[hidden] { display: none !important; }` so we also need the `!important` here to be able to override the default hidden behavior on the sphinx rendered scikit-learn.org. See: https://github.com/scikit-learn/scikit-learn/issues/21755 */display: inline-block !important;position: relative;}#sk-container-id-1 div.sk-text-repr-fallback {display: none;}</style><div id=\"sk-container-id-1\" class=\"sk-top-container\"><div class=\"sk-text-repr-fallback\"><pre>LogisticRegression()</pre><b>In a Jupyter environment, please rerun this cell to show the HTML representation or trust the notebook. <br />On GitHub, the HTML representation is unable to render, please try loading this page with nbviewer.org.</b></div><div class=\"sk-container\" hidden><div class=\"sk-item\"><div class=\"sk-estimator sk-toggleable\"><input class=\"sk-toggleable__control sk-hidden--visually\" id=\"sk-estimator-id-1\" type=\"checkbox\" checked><label for=\"sk-estimator-id-1\" class=\"sk-toggleable__label sk-toggleable__label-arrow\">LogisticRegression</label><div class=\"sk-toggleable__content\"><pre>LogisticRegression()</pre></div></div></div></div></div>"
      ],
      "text/plain": [
       "LogisticRegression()"
      ]
     },
     "execution_count": 136,
     "metadata": {},
     "output_type": "execute_result"
    }
   ],
   "source": [
    "model.fit(coords,ytrain)"
   ]
  },
  {
   "cell_type": "code",
   "execution_count": 143,
   "id": "56934ecb",
   "metadata": {},
   "outputs": [
    {
     "data": {
      "text/plain": [
       "array([1])"
      ]
     },
     "execution_count": 143,
     "metadata": {},
     "output_type": "execute_result"
    }
   ],
   "source": [
    "(model.predict_proba(xtest.tail(1))[:,1]>0.5)*1"
   ]
  },
  {
   "cell_type": "code",
   "execution_count": 41,
   "id": "8001cf32",
   "metadata": {},
   "outputs": [
    {
     "data": {
      "text/plain": [
       "<matplotlib.collections.PathCollection at 0x1a77bbaddc0>"
      ]
     },
     "execution_count": 41,
     "metadata": {},
     "output_type": "execute_result"
    },
    {
     "data": {
      "image/png": "[encoded data removed]",
      "text/plain": [
       "<Figure size 640x480 with 1 Axes>"
      ]
     },
     "metadata": {},
     "output_type": "display_data"
    }
   ],
   "source": [
    "plt.scatter(coords.iloc[:,0],coords.iloc[:,1],c=ytrain)"
   ]
  },
  {
   "cell_type": "code",
   "execution_count": 31,
   "id": "e56b03a6",
   "metadata": {},
   "outputs": [
    {
     "data": {
      "text/plain": [
       "0.840599455040872"
      ]
     },
     "execution_count": 31,
     "metadata": {},
     "output_type": "execute_result"
    }
   ],
   "source": [
    "model=LogisticRegression()\n",
    "model.fit(coords,ytrain)\n",
    "model.score(coords,ytrain)"
   ]
  },
  {
   "cell_type": "code",
   "execution_count": 32,
   "id": "225adacf",
   "metadata": {},
   "outputs": [
    {
     "data": {
      "text/plain": [
       "<matplotlib.collections.PathCollection at 0x1a77bb14be0>"
      ]
     },
     "execution_count": 32,
     "metadata": {},
     "output_type": "execute_result"
    },
    {
     "data": {
      "image/png": "[encoded data removed]",
      "text/plain": [
       "<Figure size 640x480 with 1 Axes>"
      ]
     },
     "metadata": {},
     "output_type": "display_data"
    }
   ],
   "source": [
    "plt.scatter(xtest.iloc[:,0],xtest.iloc[:,1],c=ytest)"
   ]
  },
  {
   "cell_type": "code",
   "execution_count": 33,
   "id": "86848dec",
   "metadata": {},
   "outputs": [
    {
     "data": {
      "text/plain": [
       "0.8913043478260869"
      ]
     },
     "execution_count": 33,
     "metadata": {},
     "output_type": "execute_result"
    }
   ],
   "source": [
    "model.score(xtest,ytest)"
   ]
  },
  {
   "cell_type": "code",
   "execution_count": null,
   "id": "09e486e0",
   "metadata": {},
   "outputs": [],
   "source": []
  },
  {
   "cell_type": "code",
   "execution_count": null,
   "id": "9f7a515c",
   "metadata": {},
   "outputs": [],
   "source": []
  },
  {
   "cell_type": "markdown",
   "id": "d8fb11e2",
   "metadata": {},
   "source": [
    "# Approach - 1 - Gower distance"
   ]
  },
  {
   "cell_type": "code",
   "execution_count": null,
   "id": "e6294e77",
   "metadata": {},
   "outputs": [],
   "source": [
    "df[imp_vars]"
   ]
  },
  {
   "cell_type": "code",
   "execution_count": null,
   "id": "d1d4bec8",
   "metadata": {},
   "outputs": [],
   "source": [
    "from sklearn.model_selection import train_test_split"
   ]
  },
  {
   "cell_type": "code",
   "execution_count": null,
   "id": "f48fd650",
   "metadata": {},
   "outputs": [],
   "source": [
    "xtrain,xtest,ytrain,ytest=train_test_split(df[imp_vars],df.HeartDisease,test_size=0.2)"
   ]
  },
  {
   "cell_type": "code",
   "execution_count": null,
   "id": "5ca538bd",
   "metadata": {},
   "outputs": [],
   "source": []
  },
  {
   "cell_type": "code",
   "execution_count": null,
   "id": "c27c7845",
   "metadata": {},
   "outputs": [],
   "source": []
  },
  {
   "cell_type": "code",
   "execution_count": null,
   "id": "bf3462a8",
   "metadata": {},
   "outputs": [],
   "source": []
  },
  {
   "cell_type": "code",
   "execution_count": null,
   "id": "f9d07d22",
   "metadata": {},
   "outputs": [],
   "source": []
  },
  {
   "cell_type": "code",
   "execution_count": null,
   "id": "da45c219",
   "metadata": {},
   "outputs": [],
   "source": [
    "res=umap.UMAP(n_neighbors=5, random_state=42).fit(xtrain)"
   ]
  },
  {
   "cell_type": "code",
   "execution_count": null,
   "id": "9561598f",
   "metadata": {},
   "outputs": [],
   "source": [
    "xtrain=umap.UMAP(n_neighbors=5, random_state=42).fit_transform(xtrain)"
   ]
  },
  {
   "cell_type": "code",
   "execution_count": null,
   "id": "d98940ed",
   "metadata": {},
   "outputs": [],
   "source": [
    "plt.scatter(res.embedding_[:, 0], res.embedding_[:, 1], c=ytrain)"
   ]
  },
  {
   "cell_type": "code",
   "execution_count": null,
   "id": "1ad27e4e",
   "metadata": {},
   "outputs": [],
   "source": [
    "xtest=res.transform(xtest)"
   ]
  },
  {
   "cell_type": "code",
   "execution_count": null,
   "id": "23b49b2a",
   "metadata": {},
   "outputs": [],
   "source": [
    "from sklearn.linear_model import LogisticRegression\n",
    "from sklearn.ensemble import RandomForestClassifier\n",
    "from sklearn.svm import SVC"
   ]
  },
  {
   "cell_type": "code",
   "execution_count": null,
   "id": "473cd33a",
   "metadata": {},
   "outputs": [],
   "source": [
    "model=SVC()\n",
    "model.fit(xtrain,ytrain)\n",
    "model.score(xtrain,ytrain)"
   ]
  },
  {
   "cell_type": "code",
   "execution_count": null,
   "id": "42a4180e",
   "metadata": {},
   "outputs": [],
   "source": [
    "model.score(xtest,ytest)"
   ]
  },
  {
   "cell_type": "code",
   "execution_count": null,
   "id": "aa2303fd",
   "metadata": {},
   "outputs": [],
   "source": [
    "plt.scatter(xtest[:,0],xtest[:,1],c=ytest)"
   ]
  },
  {
   "cell_type": "code",
   "execution_count": null,
   "id": "3c9347db",
   "metadata": {},
   "outputs": [],
   "source": []
  },
  {
   "cell_type": "code",
   "execution_count": null,
   "id": "2acbb7a1",
   "metadata": {},
   "outputs": [],
   "source": []
  },
  {
   "cell_type": "code",
   "execution_count": null,
   "id": "04b0d515",
   "metadata": {},
   "outputs": [],
   "source": [
    "dist_matrix=gower.gower_matrix(df5[imp_vars])"
   ]
  },
  {
   "cell_type": "code",
   "execution_count": null,
   "id": "dbaa731a",
   "metadata": {},
   "outputs": [],
   "source": []
  },
  {
   "cell_type": "code",
   "execution_count": null,
   "id": "b5ee4b1f",
   "metadata": {},
   "outputs": [],
   "source": [
    "clusters = (KMedoids(n_clusters=2, metric='precomputed', method='pam', init='build', max_iter=300, \n",
    "                     random_state=0).fit(dist_matrix).labels_)"
   ]
  },
  {
   "cell_type": "code",
   "execution_count": null,
   "id": "b4e42db8",
   "metadata": {},
   "outputs": [],
   "source": [
    "clusters"
   ]
  },
  {
   "cell_type": "code",
   "execution_count": null,
   "id": "04389911",
   "metadata": {},
   "outputs": [],
   "source": [
    "accuracy_score(df5.HeartDisease,1-clusters)"
   ]
  },
  {
   "cell_type": "code",
   "execution_count": null,
   "id": "8404cb3e",
   "metadata": {},
   "outputs": [],
   "source": [
    "model=KMedoids(n_clusters=2, metric='precomputed', method='pam', init='build', max_iter=300, \n",
    "                     random_state=0).fit(dist_matrix)"
   ]
  },
  {
   "cell_type": "code",
   "execution_count": null,
   "id": "57b7bdd9",
   "metadata": {},
   "outputs": [],
   "source": [
    "dist_matrix.shape"
   ]
  },
  {
   "cell_type": "code",
   "execution_count": null,
   "id": "63288301",
   "metadata": {},
   "outputs": [],
   "source": [
    "umap_embeddings=umap.UMAP(random_state=0, n_components=2).fit_transform(dist_matrix)"
   ]
  },
  {
   "cell_type": "code",
   "execution_count": null,
   "id": "db286970",
   "metadata": {},
   "outputs": [],
   "source": [
    "umap_embeddings"
   ]
  },
  {
   "cell_type": "code",
   "execution_count": null,
   "id": "d7f8d00b",
   "metadata": {},
   "outputs": [],
   "source": [
    "res=pd.DataFrame(umap_embeddings,columns=['x','y'])"
   ]
  },
  {
   "cell_type": "code",
   "execution_count": null,
   "id": "d41a3ccc",
   "metadata": {},
   "outputs": [],
   "source": [
    "sns.scatterplot(x=res.x,y=res.y,hue=df5.HeartDisease)"
   ]
  },
  {
   "cell_type": "code",
   "execution_count": null,
   "id": "1c1c5eaa",
   "metadata": {},
   "outputs": [],
   "source": [
    "from sklearn.tree import DecisionTreeClassifier\n",
    "model=DecisionTreeClassifier()\n",
    "model.fit(res,df.HeartDisease)"
   ]
  },
  {
   "cell_type": "code",
   "execution_count": null,
   "id": "c429f387",
   "metadata": {},
   "outputs": [],
   "source": [
    "model.score(res,df.HeartDisease)"
   ]
  },
  {
   "cell_type": "code",
   "execution_count": null,
   "id": "2dec24d4",
   "metadata": {},
   "outputs": [],
   "source": [
    "X= np.matrix(res)\n",
    "\n",
    "x_min, x_max = X[:, 0].min() - 0.1, X[:,0].max() + 0.1\n",
    "y_min, y_max = X[:, 1].min() - 0.1, X[:, 1].max() + 0.1\n",
    "\n",
    "xx, yy = np.meshgrid(np.linspace(x_min,x_max, 100),\n",
    "np.linspace(y_min, y_max, 100))\n",
    "\n",
    "x_in = np.c_[xx.ravel(), yy.ravel()]\n",
    "model=MLPClassifier(hidden_layer_sizes=[1], activation='relu', solver='adam', alpha=0.0001)\n",
    "model.fit(res,df.HeartDisease)\n",
    "y_pred = model.predict(x_in)"
   ]
  },
  {
   "cell_type": "code",
   "execution_count": null,
   "id": "fdb380dc",
   "metadata": {},
   "outputs": [],
   "source": [
    "y_pred=model.predict(res)"
   ]
  },
  {
   "cell_type": "code",
   "execution_count": null,
   "id": "42823a51",
   "metadata": {},
   "outputs": [],
   "source": [
    "from sklearn.metrics import ConfusionMatrixDisplay\n",
    "from sklearn.metrics import confusion_matrix"
   ]
  },
  {
   "cell_type": "code",
   "execution_count": null,
   "id": "67c375f9",
   "metadata": {},
   "outputs": [],
   "source": [
    "df.HeartDisease"
   ]
  },
  {
   "cell_type": "code",
   "execution_count": null,
   "id": "d641e2ef",
   "metadata": {},
   "outputs": [],
   "source": [
    "model.predict_proba(res)"
   ]
  },
  {
   "cell_type": "code",
   "execution_count": null,
   "id": "61ac134b",
   "metadata": {},
   "outputs": [],
   "source": [
    "import seaborn as sns"
   ]
  },
  {
   "cell_type": "code",
   "execution_count": null,
   "id": "38818dc0",
   "metadata": {},
   "outputs": [],
   "source": [
    "a=sns.heatmap(confusion_matrix(y,y_pred),annot=True)"
   ]
  },
  {
   "cell_type": "code",
   "execution_count": null,
   "id": "1e5a7a3c",
   "metadata": {},
   "outputs": [],
   "source": [
    "a.plot()"
   ]
  },
  {
   "cell_type": "code",
   "execution_count": null,
   "id": "bd978421",
   "metadata": {},
   "outputs": [],
   "source": []
  },
  {
   "cell_type": "code",
   "execution_count": null,
   "id": "78928360",
   "metadata": {},
   "outputs": [],
   "source": [
    "y_pred = np.round(y_pred).reshape(xx.shape)"
   ]
  },
  {
   "cell_type": "code",
   "execution_count": null,
   "id": "23e99746",
   "metadata": {},
   "outputs": [],
   "source": [
    "y=df.HeartDisease"
   ]
  },
  {
   "cell_type": "code",
   "execution_count": null,
   "id": "85c5d4d0",
   "metadata": {},
   "outputs": [],
   "source": [
    "plt.contourf(xx, yy, y_pred, cmap=plt.cm.RdYlBu, alpha=0.7 )\n",
    "plt.scatter([X[:,0]], [X[:, 1]], c=y, s=40, cmap=plt.cm.RdYlBu)\n",
    "plt.xlim(xx.min(), xx.max())\n",
    "plt.ylim(yy.min(), yy.max())"
   ]
  },
  {
   "cell_type": "code",
   "execution_count": null,
   "id": "0c79976b",
   "metadata": {},
   "outputs": [],
   "source": [
    "dist_matrix=gower.gower_matrix(df5[imp_vars])\n",
    "umap_embeddings=umap.UMAP(random_state=0, n_components=2).fit_transform(dist_matrix)\n",
    "res=pd.DataFrame(umap_embeddings,columns=['x','y'])\n",
    "X= np.matrix(res)\n",
    "x_min, x_max = X[:, 0].min() - 0.1, X[:,0].max() + 0.1\n",
    "y_min, y_max = X[:, 1].min() - 0.1, X[:, 1].max() + 0.1\n",
    "xx, yy = np.meshgrid(np.linspace(x_min,x_max, 100),\n",
    "np.linspace(y_min, y_max, 100))\n",
    "x_in = np.c_[xx.ravel(), yy.ravel()]\n",
    "y=df.HeartDisease\n",
    "import matplotlib.colors\n",
    "cmap = matplotlib.colors.ListedColormap([\"gold\", \"crimson\"])\n",
    "cmap2= matplotlib.colors.ListedColormap([\"red\", \"green\"])\n"
   ]
  },
  {
   "cell_type": "code",
   "execution_count": null,
   "id": "37fdab86",
   "metadata": {},
   "outputs": [],
   "source": [
    "def plot(clf):\n",
    "    y_pred = clf.predict_proba(x_in)[:,1]\n",
    "    y_pred = np.round(y_pred).reshape(xx.shape)\n",
    "    plt.contourf(xx, yy, y_pred, alpha=0.1, cmap='jet')\n",
    "    plt.scatter([X[:,0]], [X[:, 1]], c=y, s=40, cmap=cmap2)\n",
    "    plt.xlim(xx.min(), xx.max())\n",
    "    plt.ylim(yy.min(), yy.max())"
   ]
  },
  {
   "cell_type": "code",
   "execution_count": null,
   "id": "2531c227",
   "metadata": {},
   "outputs": [],
   "source": [
    "plot(model)"
   ]
  },
  {
   "cell_type": "code",
   "execution_count": null,
   "id": "db1e8f03",
   "metadata": {},
   "outputs": [],
   "source": []
  },
  {
   "cell_type": "code",
   "execution_count": null,
   "id": "57707915",
   "metadata": {},
   "outputs": [],
   "source": [
    "from sklearn.ensemble import RandomForestClassifier"
   ]
  },
  {
   "cell_type": "code",
   "execution_count": null,
   "id": "deae9fd6",
   "metadata": {},
   "outputs": [],
   "source": [
    "model=RandomForestClassifier()\n",
    "model.fit(res,df.HeartDisease)"
   ]
  },
  {
   "cell_type": "code",
   "execution_count": null,
   "id": "617c58b6",
   "metadata": {},
   "outputs": [],
   "source": [
    "import plotly.graph_objects as go\n",
    "import numpy as np\n",
    "from sklearn.datasets import make_moons\n",
    "from sklearn.model_selection import train_test_split\n",
    "from sklearn.neighbors import KNeighborsClassifier\n",
    "import plotly.express as px\n",
    "\n",
    "mesh_size = .02\n",
    "margin = 0.25\n",
    "\n",
    "# Create a mesh grid on which we will run our model\n",
    "X= np.matrix(res)\n",
    "x_min, x_max = X[:, 0].min() - 0.1, X[:,0].max() + 0.1\n",
    "y_min, y_max = X[:, 1].min() - 0.1, X[:, 1].max() + 0.1\n",
    "xrange=np.linspace(x_min,x_max, 100)\n",
    "yrange=np.linspace(y_min, y_max, 100)\n",
    "xx, yy = np.meshgrid(np.linspace(x_min,x_max, 100),\n",
    "np.linspace(y_min, y_max, 100))\n",
    "x_in = np.c_[xx.ravel(), yy.ravel()]\n",
    "\n",
    "# Create classifier, run predictions on grid\n",
    "clf = model\n",
    "Z = clf.predict(x_in)\n",
    "Z = Z.reshape(xx.shape)"
   ]
  },
  {
   "cell_type": "code",
   "execution_count": null,
   "id": "26902fba",
   "metadata": {},
   "outputs": [],
   "source": [
    "Z=Z.astype(np.int64)"
   ]
  },
  {
   "cell_type": "code",
   "execution_count": null,
   "id": "527e977f",
   "metadata": {},
   "outputs": [],
   "source": [
    "# Plot the figure\n",
    "colorscale=colorscale = [\n",
    "    [0, '#85cc18'],\n",
    "    [1, '#dc143c']\n",
    "]\n",
    "fig1 = go.Figure(data=[\n",
    "    go.Contour(\n",
    "        x=xrange,\n",
    "        y=yrange,\n",
    "        z=Z,\n",
    "        colorscale=colorscale,\n",
    "        opacity=0.3,\n",
    "        showscale=False,\n",
    "        contours=dict(coloring='fill')\n",
    "    )\n",
    "])\n",
    "\n",
    "legend_markers = [\n",
    "    go.Scatter(\n",
    "        x=[None],\n",
    "        y=[None],\n",
    "        mode='markers',\n",
    "        marker=dict(color='#85cc18', symbol='square', size=10, opacity=0.5),\n",
    "        name='0',\n",
    "        legend='legend2'\n",
    "    ),\n",
    "    go.Scatter(\n",
    "        x=[None],\n",
    "        y=[None],\n",
    "        mode='markers',\n",
    "        marker=dict(color='#dc143c', symbol='square', size=10, opacity=0.5),\n",
    "        name='1',\n",
    "        legend='legend2'\n",
    "    )\n",
    "]\n",
    "\n",
    "fig2= px.scatter(x=res.x,y=res.y,color=df.HeartDisease.astype(str), \n",
    "                 color_discrete_sequence=['#52ce00','#dc143c'], symbol_sequence=['x'])\n",
    "fig2.update_traces(marker_size=15,marker_opacity=0.7)\n",
    "\n",
    "fig = go.Figure(data=fig1.data + fig2.data, layout=dict(\n",
    "        title=\"GDP Per Capita\",\n",
    "        legend=dict(yanchor=\"top\", xanchor=\"left\", x=-0.3, y=1.0,title='Truth labels'),\n",
    "        legend2={\n",
    "            \"title\": \"Decision areas\",\n",
    "            \"xref\": \"container\",\n",
    "            \"yref\": \"container\",\n",
    "            \"y\": 0.83\n",
    "\n",
    "        },\n",
    "    ),\n",
    ")\n",
    "\n",
    "\n",
    "for marker_trace in legend_markers:\n",
    "    fig.add_trace(marker_trace)\n",
    "    \n",
    "fig.update_layout(plot_bgcolor=\"white\",showlegend=True)\n",
    "\n",
    "\n",
    "fig.show()"
   ]
  },
  {
   "cell_type": "code",
   "execution_count": null,
   "id": "33663c43",
   "metadata": {},
   "outputs": [],
   "source": [
    "def plot(clf,prob=False):\n",
    "    if prob:\n",
    "        Z = clf.predict_proba(x_in)[:, 1]\n",
    "        return Z\n",
    "    else:\n",
    "        Z = clf.predict(x_in)\n",
    "    Z = Z.reshape(xx.shape)\n",
    "    Z=Z.astype(np.int64)\n",
    "    \n",
    "    if prob:\n",
    "        c='jet'\n",
    "    else:\n",
    "        c=[[0,'#85cc18'],[1,'#dc143c']]\n",
    "        \n",
    "    fig1 = go.Figure(data=[\n",
    "        go.Contour(\n",
    "            x=xrange,\n",
    "            y=yrange,\n",
    "            z=Z,\n",
    "            colorscale=c,\n",
    "            opacity=0.5,\n",
    "            showscale=prob\n",
    "        )\n",
    "    ])\n",
    "    \n",
    "    fig2= px.scatter(x=res.x,y=res.y,color=df.HeartDisease.astype(str), \n",
    "                     color_discrete_sequence=['#52ce00','#dc143c'], symbol_sequence=['x'])\n",
    "    fig2.update_traces(marker_size=15,marker_opacity=0.7, showlegend=(not prob))\n",
    "    \n",
    "    \n",
    "    fig=go.Figure(data=fig1.data+fig2.data)\n",
    "    fig.update_layout(plot_bgcolor=\"white\")\n",
    "    return Z"
   ]
  },
  {
   "cell_type": "code",
   "execution_count": null,
   "id": "dc896bf2",
   "metadata": {},
   "outputs": [],
   "source": [
    "model=MLPClassifier(hidden_layer_sizes=[2]*5, activation='relu', solver='adam', alpha=0.0001)"
   ]
  },
  {
   "cell_type": "code",
   "execution_count": null,
   "id": "3a5e08f4",
   "metadata": {},
   "outputs": [],
   "source": [
    "plot(model,prob=True)"
   ]
  },
  {
   "cell_type": "code",
   "execution_count": null,
   "id": "384d1d0e",
   "metadata": {},
   "outputs": [],
   "source": [
    "xrange"
   ]
  },
  {
   "cell_type": "code",
   "execution_count": null,
   "id": "fe2654e1",
   "metadata": {},
   "outputs": [],
   "source": []
  },
  {
   "cell_type": "code",
   "execution_count": null,
   "id": "ca1d601d",
   "metadata": {},
   "outputs": [],
   "source": []
  },
  {
   "cell_type": "code",
   "execution_count": null,
   "id": "1f01a754",
   "metadata": {},
   "outputs": [],
   "source": []
  },
  {
   "cell_type": "code",
   "execution_count": null,
   "id": "6ff3bff4",
   "metadata": {},
   "outputs": [],
   "source": []
  },
  {
   "cell_type": "code",
   "execution_count": null,
   "id": "943124e9",
   "metadata": {},
   "outputs": [],
   "source": [
    "import plotly.graph_objects as go\n",
    "import numpy as np\n",
    "from sklearn.datasets import make_moons\n",
    "from sklearn.model_selection import train_test_split\n",
    "from sklearn.neighbors import KNeighborsClassifier"
   ]
  },
  {
   "cell_type": "code",
   "execution_count": null,
   "id": "97b71fae",
   "metadata": {},
   "outputs": [],
   "source": [
    "np.arange()"
   ]
  },
  {
   "cell_type": "code",
   "execution_count": null,
   "id": "eb6dfd37",
   "metadata": {},
   "outputs": [],
   "source": [
    "# Load and split data\n",
    "X= np.matrix(res)\n",
    "x_min, x_max = X[:, 0].min() - 0.1, X[:,0].max() + 0.1\n",
    "y_min, y_max = X[:, 1].min() - 0.1, X[:, 1].max() + 0.1\n",
    "xx, yy = np.meshgrid(np.linspace(x_min,x_max, 100),\n",
    "np.linspace(y_min, y_max, 100))\n",
    "xrange=np.linspace(x_min,x_max, 100)\n",
    "yrange=np.linspace(y_min, y_max, 100)\n",
    "x_in = np.c_[xx.ravel(), yy.ravel()]\n",
    "\n",
    "# Create classifier, run predictions on grid\n",
    "clf = model\n",
    "Z = clf.predict(x_in)#[:, 1]\n",
    "Z = Z.reshape(xx.shape)\n",
    "\n",
    "# trace_specs = [\n",
    "#     [X_train, y_train, '0', 'Train', 'square'],\n",
    "#     [X_train, y_train, '1', 'Train', 'circle'],\n",
    "# ]\n",
    "\n",
    "fig = go.Figure(data=go.Scatter(x=res.x,y=res.y,mode='markers',marker_color=df.HeartDisease))\n",
    "fig.add_trace(\n",
    "    go.Contour(\n",
    "        x=xrange,\n",
    "        y=yrange,\n",
    "        z=Z,\n",
    "        showscale=False,\n",
    "        colorscale='RdBu',\n",
    "        opacity=0.4\n",
    "    )\n",
    ")\n",
    "fig.update_layout(plot_bgcolor=\"white\")\n",
    "#fig.update_xaxes(showline=True, linewidth=1, gridcolor='gray')\n",
    "fig.update_yaxes(showline=True, linewidth=1, gridcolor='gray')\n",
    "fig.show()"
   ]
  },
  {
   "cell_type": "code",
   "execution_count": null,
   "id": "f074b242",
   "metadata": {},
   "outputs": [],
   "source": [
    "yrange.max()"
   ]
  },
  {
   "cell_type": "code",
   "execution_count": null,
   "id": "2c566a2b",
   "metadata": {},
   "outputs": [],
   "source": [
    "from sklearn.datasets import load_iris\n",
    "from sklearn.tree import DecisionTreeClassifier\n",
    "\n",
    "import dtreeviz"
   ]
  },
  {
   "cell_type": "code",
   "execution_count": null,
   "id": "b016c3d7",
   "metadata": {},
   "outputs": [],
   "source": [
    "model=DecisionTreeClassifier(max_depth=5)\n",
    "model.fit(res,df.HeartDisease)"
   ]
  },
  {
   "cell_type": "code",
   "execution_count": null,
   "id": "bbbe3864",
   "metadata": {},
   "outputs": [],
   "source": [
    "viz_model = dtreeviz.model(model,\n",
    "                           X_train=res, y_train=df.HeartDisease.astype(int),\n",
    "                           feature_names=['x','y'],\n",
    "                           target_name='Heart Disease',\n",
    "                           class_names=['0','1'])\n",
    "\n",
    "v = viz_model.view()     # render as SVG into internal object "
   ]
  },
  {
   "cell_type": "code",
   "execution_count": null,
   "id": "07764628",
   "metadata": {},
   "outputs": [],
   "source": [
    "v.show()"
   ]
  },
  {
   "cell_type": "code",
   "execution_count": null,
   "id": "4883edc7",
   "metadata": {},
   "outputs": [],
   "source": [
    "import graphviz\n",
    "from sklearn import tree\n",
    "# DOT data\n",
    "dot_data = tree.export_graphviz(model, out_file=None, \n",
    "                                feature_names=['x','y'],  \n",
    "                                class_names=['0','1'],\n",
    "                                filled=True)\n",
    "\n",
    "# Draw graph\n",
    "graph = graphviz.Source(dot_data, format=\"png\") \n",
    "graph"
   ]
  },
  {
   "cell_type": "code",
   "execution_count": null,
   "id": "65534cfe",
   "metadata": {},
   "outputs": [],
   "source": [
    "from matplotlib import pyplot\n",
    "from math import cos, sin, atan, sqrt\n",
    "\n",
    "def create_neuron(x, y):\n",
    "    return {'x': x, 'y': y}\n",
    "\n",
    "def draw_neuron(neuron, neuron_radius):\n",
    "    circle = pyplot.Circle((neuron['x'], neuron['y']), radius=neuron_radius, fill=False)\n",
    "    pyplot.gca().add_patch(circle)\n",
    "\n",
    "def line_between_two_neurons(neuron1, neuron2, neuron_radius):\n",
    "    angle = atan((neuron2['x'] - neuron1['x']) / float(neuron2['y'] - neuron1['y']))\n",
    "    x_adjustment = neuron_radius * sin(angle)\n",
    "    y_adjustment = neuron_radius * cos(angle)\n",
    "    line = pyplot.Line2D((neuron1['x'] + x_adjustment, neuron2['x'] - x_adjustment),\n",
    "                         (neuron1['y'] + y_adjustment, neuron2['y'] - y_adjustment))\n",
    "    pyplot.gca().add_line(line)\n",
    "\n",
    "def create_layer(network, number_of_neurons, number_of_neurons_in_widest_layer, prev_layer=None):\n",
    "    vertical_distance_between_layers = 6\n",
    "    horizontal_distance_between_neurons = 2\n",
    "    neuron_radius = 0.5\n",
    "    y = prev_layer['y'] - vertical_distance_between_layers if prev_layer else 0\n",
    "\n",
    "    neurons = []\n",
    "    x = horizontal_distance_between_neurons * (number_of_neurons_in_widest_layer - number_of_neurons) / 2\n",
    "    for _ in range(number_of_neurons):\n",
    "        neuron = create_neuron(x, y)\n",
    "        neurons.append(neuron)\n",
    "        x += horizontal_distance_between_neurons\n",
    "\n",
    "    return {\n",
    "        'vertical_distance_between_layers': vertical_distance_between_layers,\n",
    "        'horizontal_distance_between_neurons': horizontal_distance_between_neurons,\n",
    "        'neuron_radius': neuron_radius,\n",
    "        'number_of_neurons_in_widest_layer': number_of_neurons_in_widest_layer,\n",
    "        'previous_layer': prev_layer,\n",
    "        'y': y,\n",
    "        'neurons': neurons\n",
    "    }\n",
    "\n",
    "def draw_layer(layer, layer_type=0):\n",
    "    for neuron in layer['neurons']:\n",
    "        draw_neuron(neuron, layer['neuron_radius'])\n",
    "\n",
    "    if layer['previous_layer']:\n",
    "        for neuron in layer['neurons']:\n",
    "            for prev_neuron in layer['previous_layer']['neurons']:\n",
    "                line_between_two_neurons(neuron, prev_neuron, layer['neuron_radius'])\n",
    "\n",
    "    x_text = layer['number_of_neurons_in_widest_layer'] * layer['horizontal_distance_between_neurons']\n",
    "    y_text = layer['y'] - layer['vertical_distance_between_layers'] * 0.1 \n",
    "    if layer_type == 0:\n",
    "        pyplot.text(x_text, y_text, 'Input Layer', fontsize=12)\n",
    "    elif layer_type == -1:\n",
    "        pyplot.text(x_text, y_text, 'Output Layer', fontsize=12)\n",
    "    else:\n",
    "        pyplot.text(x_text, y_text, f'Hidden Layer {layer_type}', fontsize=12)\n",
    "\n",
    "def create_network(neurons_list):\n",
    "    widest_layer = max(neurons_list)\n",
    "    layers = []\n",
    "    prev_layer = None\n",
    "    for i, neurons in enumerate(neurons_list):\n",
    "        layer = create_layer(layers, neurons, widest_layer, prev_layer)\n",
    "        layers.append(layer)\n",
    "        prev_layer = layer\n",
    "    return layers\n",
    "\n",
    "def draw_network(layers):\n",
    "    widest_layer_neurons = max(layer['number_of_neurons_in_widest_layer'] for layer in layers)\n",
    "    fig_width = widest_layer_neurons * 2 \n",
    "    fig_height = len(layers) * 2 \n",
    "\n",
    "    fig = pyplot.figure(figsize=(fig_width, fig_height))\n",
    "    for i, layer in enumerate(layers):\n",
    "        draw_layer(layer, i if i != len(layers) - 1 else -1)\n",
    "\n",
    "    pyplot.axis('scaled')\n",
    "    pyplot.axis('off')\n",
    "    pyplot.title('Neural Network architecture', fontsize=15)\n",
    "    return fig"
   ]
  },
  {
   "cell_type": "code",
   "execution_count": null,
   "id": "b05446e9",
   "metadata": {},
   "outputs": [],
   "source": [
    "neurons_list = [2, 8, 8,7,7,7, 1]\n",
    "network = create_network(neurons_list)\n",
    "fig = draw_network(network)\n",
    "pyplot.show(fig)"
   ]
  },
  {
   "cell_type": "code",
   "execution_count": null,
   "id": "545389af",
   "metadata": {},
   "outputs": [],
   "source": [
    "neurons_list = [9,5,5,1]\n",
    "network = create_network(neurons_list)\n",
    "fig=draw_network(network)"
   ]
  },
  {
   "cell_type": "code",
   "execution_count": null,
   "id": "c586660e",
   "metadata": {},
   "outputs": [],
   "source": []
  },
  {
   "cell_type": "code",
   "execution_count": null,
   "id": "543e2e87",
   "metadata": {},
   "outputs": [],
   "source": [
    "fig"
   ]
  },
  {
   "cell_type": "code",
   "execution_count": null,
   "id": "74a9ee59",
   "metadata": {},
   "outputs": [],
   "source": []
  },
  {
   "cell_type": "code",
   "execution_count": null,
   "id": "4a8efc5b",
   "metadata": {},
   "outputs": [],
   "source": []
  },
  {
   "cell_type": "code",
   "execution_count": null,
   "id": "79ad1847",
   "metadata": {},
   "outputs": [],
   "source": []
  },
  {
   "cell_type": "code",
   "execution_count": null,
   "id": "f66295ad",
   "metadata": {},
   "outputs": [],
   "source": []
  },
  {
   "cell_type": "code",
   "execution_count": null,
   "id": "8ebbb4a0",
   "metadata": {},
   "outputs": [],
   "source": []
  },
  {
   "cell_type": "code",
   "execution_count": null,
   "id": "a105e7aa",
   "metadata": {},
   "outputs": [],
   "source": []
  },
  {
   "cell_type": "code",
   "execution_count": null,
   "id": "cf4d1b04",
   "metadata": {},
   "outputs": [],
   "source": []
  },
  {
   "cell_type": "code",
   "execution_count": null,
   "id": "1bf15c1d",
   "metadata": {},
   "outputs": [],
   "source": []
  },
  {
   "cell_type": "code",
   "execution_count": null,
   "id": "33d3e163",
   "metadata": {},
   "outputs": [],
   "source": []
  },
  {
   "cell_type": "code",
   "execution_count": null,
   "id": "7e20dac0",
   "metadata": {},
   "outputs": [],
   "source": []
  },
  {
   "cell_type": "code",
   "execution_count": null,
   "id": "aad44a6d",
   "metadata": {},
   "outputs": [],
   "source": []
  },
  {
   "cell_type": "code",
   "execution_count": null,
   "id": "e7a04bd9",
   "metadata": {},
   "outputs": [],
   "source": []
  },
  {
   "cell_type": "code",
   "execution_count": null,
   "id": "89569332",
   "metadata": {},
   "outputs": [],
   "source": []
  },
  {
   "cell_type": "code",
   "execution_count": null,
   "id": "51d9d27f",
   "metadata": {},
   "outputs": [],
   "source": []
  },
  {
   "cell_type": "code",
   "execution_count": null,
   "id": "a225eede",
   "metadata": {},
   "outputs": [],
   "source": []
  },
  {
   "cell_type": "code",
   "execution_count": null,
   "id": "34f2910b",
   "metadata": {},
   "outputs": [],
   "source": []
  }
 ],
 "metadata": {
  "kernelspec": {
   "display_name": "Python 3 (ipykernel)",
   "language": "python",
   "name": "python3"
  },
  "language_info": {
   "codemirror_mode": {
    "name": "ipython",
    "version": 3
   },
   "file_extension": ".py",
   "mimetype": "text/x-python",
   "name": "python",
   "nbconvert_exporter": "python",
   "pygments_lexer": "ipython3",
   "version": "3.9.17"
  }
 },
 "nbformat": 4,
 "nbformat_minor": 5
}
